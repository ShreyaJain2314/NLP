{
 "cells": [
  {
   "cell_type": "code",
   "execution_count": null,
   "id": "917becce",
   "metadata": {
    "papermill": {
     "duration": 0.004897,
     "end_time": "2023-10-18T09:23:35.283795",
     "exception": false,
     "start_time": "2023-10-18T09:23:35.278898",
     "status": "completed"
    },
    "tags": []
   },
   "outputs": [],
   "source": []
  },
  {
   "cell_type": "markdown",
   "id": "b30eb919",
   "metadata": {
    "papermill": {
     "duration": 0.004124,
     "end_time": "2023-10-18T09:23:35.292456",
     "exception": false,
     "start_time": "2023-10-18T09:23:35.288332",
     "status": "completed"
    },
    "tags": []
   },
   "source": []
  },
  {
   "cell_type": "code",
   "execution_count": 1,
   "id": "586e5bec",
   "metadata": {
    "_cell_guid": "b1076dfc-b9ad-4769-8c92-a6c4dae69d19",
    "_uuid": "8f2839f25d086af736a60e9eeb907d3b93b6e0e5",
    "execution": {
     "iopub.execute_input": "2023-10-18T09:23:35.302915Z",
     "iopub.status.busy": "2023-10-18T09:23:35.302583Z",
     "iopub.status.idle": "2023-10-18T09:23:35.690378Z",
     "shell.execute_reply": "2023-10-18T09:23:35.689304Z"
    },
    "papermill": {
     "duration": 0.395731,
     "end_time": "2023-10-18T09:23:35.692548",
     "exception": false,
     "start_time": "2023-10-18T09:23:35.296817",
     "status": "completed"
    },
    "tags": []
   },
   "outputs": [
    {
     "name": "stdout",
     "output_type": "stream",
     "text": [
      "/kaggle/input/dataset-text/y_test.csv\n",
      "/kaggle/input/dataset-text/X_test.csv\n",
      "/kaggle/input/dataset-text/y_train.csv\n",
      "/kaggle/input/dataset-text/X_train.csv\n",
      "/kaggle/input/spamdata/spam.csv\n"
     ]
    }
   ],
   "source": [
    "# This Python 3 environment comes with many helpful analytics libraries installed\n",
    "# It is defined by the kaggle/python Docker image: https://github.com/kaggle/docker-python\n",
    "# For example, here's several helpful packages to load\n",
    "\n",
    "import numpy as np # linear algebra\n",
    "import pandas as pd # data processing, CSV file I/O (e.g. pd.read_csv)\n",
    "\n",
    "# Input data files are available in the read-only \"../input/\" directory\n",
    "# For example, running this (by clicking run or pressing Shift+Enter) will list all files under the input directory\n",
    "\n",
    "import os\n",
    "for dirname, _, filenames in os.walk('/kaggle/input'):\n",
    "    for filename in filenames:\n",
    "        print(os.path.join(dirname, filename))\n",
    "\n",
    "# You can write up to 20GB to the current directory (/kaggle/working/) that gets preserved as output when you create a version using \"Save & Run All\" \n",
    "# You can also write temporary files to /kaggle/temp/, but they won't be saved outside of the current session"
   ]
  },
  {
   "cell_type": "code",
   "execution_count": 2,
   "id": "fd76aa96",
   "metadata": {
    "execution": {
     "iopub.execute_input": "2023-10-18T09:23:35.703378Z",
     "iopub.status.busy": "2023-10-18T09:23:35.702881Z",
     "iopub.status.idle": "2023-10-18T09:23:43.838439Z",
     "shell.execute_reply": "2023-10-18T09:23:43.837170Z"
    },
    "papermill": {
     "duration": 8.14365,
     "end_time": "2023-10-18T09:23:43.840746",
     "exception": false,
     "start_time": "2023-10-18T09:23:35.697096",
     "status": "completed"
    },
    "tags": []
   },
   "outputs": [
    {
     "data": {
      "text/html": [
       "<div>\n",
       "<style scoped>\n",
       "    .dataframe tbody tr th:only-of-type {\n",
       "        vertical-align: middle;\n",
       "    }\n",
       "\n",
       "    .dataframe tbody tr th {\n",
       "        vertical-align: top;\n",
       "    }\n",
       "\n",
       "    .dataframe thead th {\n",
       "        text-align: right;\n",
       "    }\n",
       "</style>\n",
       "<table border=\"1\" class=\"dataframe\">\n",
       "  <thead>\n",
       "    <tr style=\"text-align: right;\">\n",
       "      <th></th>\n",
       "      <th>label</th>\n",
       "      <th>text</th>\n",
       "    </tr>\n",
       "  </thead>\n",
       "  <tbody>\n",
       "    <tr>\n",
       "      <th>0</th>\n",
       "      <td>ham</td>\n",
       "      <td>Go until jurong point, crazy.. Available only in bugis n great world la e buffet... Cine there g...</td>\n",
       "    </tr>\n",
       "    <tr>\n",
       "      <th>1</th>\n",
       "      <td>ham</td>\n",
       "      <td>Ok lar... Joking wif u oni...</td>\n",
       "    </tr>\n",
       "    <tr>\n",
       "      <th>2</th>\n",
       "      <td>spam</td>\n",
       "      <td>Free entry in 2 a wkly comp to win FA Cup final tkts 21st May 2005. Text FA to 87121 to receive ...</td>\n",
       "    </tr>\n",
       "    <tr>\n",
       "      <th>3</th>\n",
       "      <td>ham</td>\n",
       "      <td>U dun say so early hor... U c already then say...</td>\n",
       "    </tr>\n",
       "    <tr>\n",
       "      <th>4</th>\n",
       "      <td>ham</td>\n",
       "      <td>Nah I don't think he goes to usf, he lives around here though</td>\n",
       "    </tr>\n",
       "  </tbody>\n",
       "</table>\n",
       "</div>"
      ],
      "text/plain": [
       "  label  \\\n",
       "0   ham   \n",
       "1   ham   \n",
       "2  spam   \n",
       "3   ham   \n",
       "4   ham   \n",
       "\n",
       "                                                                                                  text  \n",
       "0  Go until jurong point, crazy.. Available only in bugis n great world la e buffet... Cine there g...  \n",
       "1                                                                        Ok lar... Joking wif u oni...  \n",
       "2  Free entry in 2 a wkly comp to win FA Cup final tkts 21st May 2005. Text FA to 87121 to receive ...  \n",
       "3                                                    U dun say so early hor... U c already then say...  \n",
       "4                                        Nah I don't think he goes to usf, he lives around here though  "
      ]
     },
     "execution_count": 2,
     "metadata": {},
     "output_type": "execute_result"
    }
   ],
   "source": [
    "import gensim\n",
    "import numpy as np\n",
    "import pandas as pd\n",
    "from sklearn.model_selection import train_test_split\n",
    "pd.set_option('display.max_colwidth', 100)\n",
    "\n",
    "messages = pd.read_csv('/kaggle/input/spamdata/spam.csv', encoding='latin-1')\n",
    "messages = messages.drop(labels = [\"Unnamed: 2\", \"Unnamed: 3\", \"Unnamed: 4\"], axis = 1)\n",
    "messages.columns = [\"label\", \"text\"]\n",
    "messages.head()"
   ]
  },
  {
   "cell_type": "code",
   "execution_count": 3,
   "id": "1f5ed135",
   "metadata": {
    "execution": {
     "iopub.execute_input": "2023-10-18T09:23:43.853704Z",
     "iopub.status.busy": "2023-10-18T09:23:43.851745Z",
     "iopub.status.idle": "2023-10-18T09:23:43.978512Z",
     "shell.execute_reply": "2023-10-18T09:23:43.977435Z"
    },
    "papermill": {
     "duration": 0.135389,
     "end_time": "2023-10-18T09:23:43.981036",
     "exception": false,
     "start_time": "2023-10-18T09:23:43.845647",
     "status": "completed"
    },
    "tags": []
   },
   "outputs": [
    {
     "data": {
      "text/html": [
       "<div>\n",
       "<style scoped>\n",
       "    .dataframe tbody tr th:only-of-type {\n",
       "        vertical-align: middle;\n",
       "    }\n",
       "\n",
       "    .dataframe tbody tr th {\n",
       "        vertical-align: top;\n",
       "    }\n",
       "\n",
       "    .dataframe thead th {\n",
       "        text-align: right;\n",
       "    }\n",
       "</style>\n",
       "<table border=\"1\" class=\"dataframe\">\n",
       "  <thead>\n",
       "    <tr style=\"text-align: right;\">\n",
       "      <th></th>\n",
       "      <th>label</th>\n",
       "      <th>text</th>\n",
       "      <th>text_clean</th>\n",
       "    </tr>\n",
       "  </thead>\n",
       "  <tbody>\n",
       "    <tr>\n",
       "      <th>0</th>\n",
       "      <td>ham</td>\n",
       "      <td>Go until jurong point, crazy.. Available only in bugis n great world la e buffet... Cine there g...</td>\n",
       "      <td>[go, until, jurong, point, crazy, available, only, in, bugis, great, world, la, buffet, cine, th...</td>\n",
       "    </tr>\n",
       "    <tr>\n",
       "      <th>1</th>\n",
       "      <td>ham</td>\n",
       "      <td>Ok lar... Joking wif u oni...</td>\n",
       "      <td>[ok, lar, joking, wif, oni]</td>\n",
       "    </tr>\n",
       "    <tr>\n",
       "      <th>2</th>\n",
       "      <td>spam</td>\n",
       "      <td>Free entry in 2 a wkly comp to win FA Cup final tkts 21st May 2005. Text FA to 87121 to receive ...</td>\n",
       "      <td>[free, entry, in, wkly, comp, to, win, fa, cup, final, tkts, st, may, text, fa, to, to, receive,...</td>\n",
       "    </tr>\n",
       "    <tr>\n",
       "      <th>3</th>\n",
       "      <td>ham</td>\n",
       "      <td>U dun say so early hor... U c already then say...</td>\n",
       "      <td>[dun, say, so, early, hor, already, then, say]</td>\n",
       "    </tr>\n",
       "    <tr>\n",
       "      <th>4</th>\n",
       "      <td>ham</td>\n",
       "      <td>Nah I don't think he goes to usf, he lives around here though</td>\n",
       "      <td>[nah, don, think, he, goes, to, usf, he, lives, around, here, though]</td>\n",
       "    </tr>\n",
       "  </tbody>\n",
       "</table>\n",
       "</div>"
      ],
      "text/plain": [
       "  label  \\\n",
       "0   ham   \n",
       "1   ham   \n",
       "2  spam   \n",
       "3   ham   \n",
       "4   ham   \n",
       "\n",
       "                                                                                                  text  \\\n",
       "0  Go until jurong point, crazy.. Available only in bugis n great world la e buffet... Cine there g...   \n",
       "1                                                                        Ok lar... Joking wif u oni...   \n",
       "2  Free entry in 2 a wkly comp to win FA Cup final tkts 21st May 2005. Text FA to 87121 to receive ...   \n",
       "3                                                    U dun say so early hor... U c already then say...   \n",
       "4                                        Nah I don't think he goes to usf, he lives around here though   \n",
       "\n",
       "                                                                                            text_clean  \n",
       "0  [go, until, jurong, point, crazy, available, only, in, bugis, great, world, la, buffet, cine, th...  \n",
       "1                                                                          [ok, lar, joking, wif, oni]  \n",
       "2  [free, entry, in, wkly, comp, to, win, fa, cup, final, tkts, st, may, text, fa, to, to, receive,...  \n",
       "3                                                       [dun, say, so, early, hor, already, then, say]  \n",
       "4                                [nah, don, think, he, goes, to, usf, he, lives, around, here, though]  "
      ]
     },
     "execution_count": 3,
     "metadata": {},
     "output_type": "execute_result"
    }
   ],
   "source": [
    "#Clean data using built-in cleaner in gensim\n",
    "\n",
    "messages['text_clean']=messages['text'].apply(lambda x: gensim.utils.simple_preprocess(x))\n",
    "messages.head()"
   ]
  },
  {
   "cell_type": "code",
   "execution_count": 4,
   "id": "d1d43fad",
   "metadata": {
    "execution": {
     "iopub.execute_input": "2023-10-18T09:23:43.993822Z",
     "iopub.status.busy": "2023-10-18T09:23:43.992485Z",
     "iopub.status.idle": "2023-10-18T09:23:44.000973Z",
     "shell.execute_reply": "2023-10-18T09:23:44.000232Z"
    },
    "papermill": {
     "duration": 0.016659,
     "end_time": "2023-10-18T09:23:44.002955",
     "exception": false,
     "start_time": "2023-10-18T09:23:43.986296",
     "status": "completed"
    },
    "tags": []
   },
   "outputs": [],
   "source": [
    "X_train, X_test, y_train, y_test = train_test_split(messages['text_clean'],\n",
    "                                                    messages['label'], test_size=0.2)"
   ]
  },
  {
   "cell_type": "code",
   "execution_count": 5,
   "id": "8b6b10b8",
   "metadata": {
    "execution": {
     "iopub.execute_input": "2023-10-18T09:23:44.015250Z",
     "iopub.status.busy": "2023-10-18T09:23:44.014300Z",
     "iopub.status.idle": "2023-10-18T09:23:55.331856Z",
     "shell.execute_reply": "2023-10-18T09:23:55.330722Z"
    },
    "papermill": {
     "duration": 11.326224,
     "end_time": "2023-10-18T09:23:55.334376",
     "exception": false,
     "start_time": "2023-10-18T09:23:44.008152",
     "status": "completed"
    },
    "tags": []
   },
   "outputs": [
    {
     "name": "stdout",
     "output_type": "stream",
     "text": [
      "Requirement already satisfied: gensim in /opt/conda/lib/python3.10/site-packages (4.3.2)\r\n",
      "Requirement already satisfied: numpy>=1.18.5 in /opt/conda/lib/python3.10/site-packages (from gensim) (1.23.5)\r\n",
      "Requirement already satisfied: scipy>=1.7.0 in /opt/conda/lib/python3.10/site-packages (from gensim) (1.11.2)\r\n",
      "Requirement already satisfied: smart-open>=1.8.1 in /opt/conda/lib/python3.10/site-packages (from gensim) (6.3.0)\r\n"
     ]
    }
   ],
   "source": [
    "!pip install -U gensim"
   ]
  },
  {
   "cell_type": "code",
   "execution_count": 6,
   "id": "8cd3e754",
   "metadata": {
    "execution": {
     "iopub.execute_input": "2023-10-18T09:23:55.346736Z",
     "iopub.status.busy": "2023-10-18T09:23:55.346315Z",
     "iopub.status.idle": "2023-10-18T09:23:55.722234Z",
     "shell.execute_reply": "2023-10-18T09:23:55.721232Z"
    },
    "papermill": {
     "duration": 0.385051,
     "end_time": "2023-10-18T09:23:55.724639",
     "exception": false,
     "start_time": "2023-10-18T09:23:55.339588",
     "status": "completed"
    },
    "tags": []
   },
   "outputs": [],
   "source": [
    "#Train word2vec model\n",
    "w2v_model = gensim.models.Word2Vec(X_train, vector_size=100, window=5, min_count=2)"
   ]
  },
  {
   "cell_type": "code",
   "execution_count": 7,
   "id": "0942cab6",
   "metadata": {
    "execution": {
     "iopub.execute_input": "2023-10-18T09:23:55.737242Z",
     "iopub.status.busy": "2023-10-18T09:23:55.736304Z",
     "iopub.status.idle": "2023-10-18T09:23:55.744894Z",
     "shell.execute_reply": "2023-10-18T09:23:55.743702Z"
    },
    "papermill": {
     "duration": 0.01699,
     "end_time": "2023-10-18T09:23:55.746893",
     "exception": false,
     "start_time": "2023-10-18T09:23:55.729903",
     "status": "completed"
    },
    "tags": []
   },
   "outputs": [
    {
     "data": {
      "text/plain": [
       "array([-0.03031899,  0.09674516,  0.03025834,  0.00323773,  0.03433442,\n",
       "       -0.14660646,  0.04599978,  0.2105002 , -0.07092355, -0.08120977,\n",
       "       -0.02705824, -0.13642408,  0.00552538,  0.04271284,  0.04080701,\n",
       "       -0.09095394, -0.00200129, -0.10529955, -0.05561694, -0.22460753,\n",
       "        0.07312919,  0.05439958,  0.0505506 , -0.06657319, -0.02453818,\n",
       "        0.02350738, -0.07921389, -0.07557296, -0.09233691, -0.00484769,\n",
       "        0.08427827,  0.04316669,  0.04196367, -0.08393202, -0.05191346,\n",
       "        0.11081918,  0.03047338, -0.08912092, -0.03847113, -0.18089102,\n",
       "        0.03230612, -0.10563631, -0.05350606, -0.0088451 ,  0.08862989,\n",
       "       -0.06918709, -0.10379892,  0.02633901,  0.04640258,  0.04524596,\n",
       "        0.03924006, -0.11710425, -0.02685917,  0.03603106, -0.03886039,\n",
       "        0.07574724,  0.07357136,  0.00934417, -0.09050635,  0.06609963,\n",
       "        0.01785661,  0.03113051, -0.01418831, -0.0409763 , -0.10235097,\n",
       "        0.09130214,  0.04694288,  0.13105124, -0.15102994,  0.08457108,\n",
       "       -0.05451704,  0.0534667 ,  0.11727925, -0.0549846 ,  0.12756906,\n",
       "        0.05449897, -0.03115606, -0.01380055, -0.13177525,  0.01857469,\n",
       "       -0.03352391, -0.01809282, -0.11559284,  0.1520012 , -0.01144741,\n",
       "        0.05121338,  0.0016882 ,  0.11416664,  0.08391798,  0.03315583,\n",
       "        0.12770128,  0.08223159, -0.00982605,  0.04232414,  0.14999713,\n",
       "        0.06966817,  0.02448303, -0.07248137,  0.05403974, -0.06825651],\n",
       "      dtype=float32)"
      ]
     },
     "execution_count": 7,
     "metadata": {},
     "output_type": "execute_result"
    }
   ],
   "source": [
    "w2v_model.wv['king']"
   ]
  },
  {
   "cell_type": "code",
   "execution_count": 8,
   "id": "f4bfeab1",
   "metadata": {
    "execution": {
     "iopub.execute_input": "2023-10-18T09:23:55.759763Z",
     "iopub.status.busy": "2023-10-18T09:23:55.758577Z",
     "iopub.status.idle": "2023-10-18T09:23:55.779827Z",
     "shell.execute_reply": "2023-10-18T09:23:55.778327Z"
    },
    "papermill": {
     "duration": 0.032433,
     "end_time": "2023-10-18T09:23:55.784516",
     "exception": false,
     "start_time": "2023-10-18T09:23:55.752083",
     "status": "completed"
    },
    "tags": []
   },
   "outputs": [
    {
     "data": {
      "text/plain": [
       "[('cant', 0.9975193738937378),\n",
       " ('night', 0.9975084066390991),\n",
       " ('does', 0.9975000023841858),\n",
       " ('were', 0.997490644454956),\n",
       " ('left', 0.997489869594574),\n",
       " ('nice', 0.9974810481071472),\n",
       " ('good', 0.9974794387817383),\n",
       " ('even', 0.9974726438522339),\n",
       " ('wat', 0.9974645972251892),\n",
       " ('dear', 0.9974517226219177)]"
      ]
     },
     "execution_count": 8,
     "metadata": {},
     "output_type": "execute_result"
    }
   ],
   "source": [
    "w2v_model.wv.most_similar(\"king\")"
   ]
  },
  {
   "cell_type": "code",
   "execution_count": 9,
   "id": "e2137480",
   "metadata": {
    "execution": {
     "iopub.execute_input": "2023-10-18T09:23:55.817030Z",
     "iopub.status.busy": "2023-10-18T09:23:55.816382Z",
     "iopub.status.idle": "2023-10-18T09:23:55.886140Z",
     "shell.execute_reply": "2023-10-18T09:23:55.884656Z"
    },
    "papermill": {
     "duration": 0.090014,
     "end_time": "2023-10-18T09:23:55.890090",
     "exception": false,
     "start_time": "2023-10-18T09:23:55.800076",
     "status": "completed"
    },
    "tags": []
   },
   "outputs": [],
   "source": [
    "X_train=pd.read_csv('/kaggle/input/dataset-text/X_train.csv')\n",
    "X_test=pd.read_csv('/kaggle/input/dataset-text/X_test.csv')\n",
    "y_train=pd.read_csv('/kaggle/input/dataset-text/y_train.csv')\n",
    "y_test=pd.read_csv('/kaggle/input/dataset-text/y_test.csv')"
   ]
  },
  {
   "cell_type": "code",
   "execution_count": 10,
   "id": "c214c188",
   "metadata": {
    "execution": {
     "iopub.execute_input": "2023-10-18T09:23:55.902175Z",
     "iopub.status.busy": "2023-10-18T09:23:55.901791Z",
     "iopub.status.idle": "2023-10-18T09:23:55.916071Z",
     "shell.execute_reply": "2023-10-18T09:23:55.915249Z"
    },
    "papermill": {
     "duration": 0.022926,
     "end_time": "2023-10-18T09:23:55.918392",
     "exception": false,
     "start_time": "2023-10-18T09:23:55.895466",
     "status": "completed"
    },
    "tags": []
   },
   "outputs": [],
   "source": [
    "w2v_model=gensim.models.Word2Vec(X_train,vector_size=100,window=5,min_count=2)"
   ]
  },
  {
   "cell_type": "markdown",
   "id": "b471f256",
   "metadata": {
    "papermill": {
     "duration": 0.005068,
     "end_time": "2023-10-18T09:23:55.929062",
     "exception": false,
     "start_time": "2023-10-18T09:23:55.923994",
     "status": "completed"
    },
    "tags": []
   },
   "source": []
  },
  {
   "cell_type": "code",
   "execution_count": 11,
   "id": "98ce1c42",
   "metadata": {
    "execution": {
     "iopub.execute_input": "2023-10-18T09:23:55.941393Z",
     "iopub.status.busy": "2023-10-18T09:23:55.940727Z",
     "iopub.status.idle": "2023-10-18T09:23:56.218208Z",
     "shell.execute_reply": "2023-10-18T09:23:56.216562Z"
    },
    "papermill": {
     "duration": 0.286068,
     "end_time": "2023-10-18T09:23:56.220241",
     "exception": true,
     "start_time": "2023-10-18T09:23:55.934173",
     "status": "failed"
    },
    "tags": []
   },
   "outputs": [
    {
     "ename": "NameError",
     "evalue": "name 'w2vModel' is not defined",
     "output_type": "error",
     "traceback": [
      "\u001b[0;31m---------------------------------------------------------------------------\u001b[0m",
      "\u001b[0;31mNameError\u001b[0m                                 Traceback (most recent call last)",
      "Cell \u001b[0;32mIn[11], line 3\u001b[0m\n\u001b[1;32m      1\u001b[0m \u001b[38;5;66;03m# Replace the words in each text message with the learned word vector\u001b[39;00m\n\u001b[0;32m----> 3\u001b[0m words\u001b[38;5;241m=\u001b[39m\u001b[38;5;28mset\u001b[39m(\u001b[43mw2vModel\u001b[49m\u001b[38;5;241m.\u001b[39mwv\u001b[38;5;241m.\u001b[39mindex_to_key)\n\u001b[1;32m      5\u001b[0m X_train_vect \u001b[38;5;241m=\u001b[39m np\u001b[38;5;241m.\u001b[39marray([np\u001b[38;5;241m.\u001b[39marray([w2v_model\u001b[38;5;241m.\u001b[39mwv[i] \u001b[38;5;28;01mfor\u001b[39;00m i \u001b[38;5;129;01min\u001b[39;00m ls \u001b[38;5;28;01mif\u001b[39;00m i \u001b[38;5;129;01min\u001b[39;00m words])\n\u001b[1;32m      6\u001b[0m                          \u001b[38;5;28;01mfor\u001b[39;00m ls \u001b[38;5;129;01min\u001b[39;00m X_train[\u001b[38;5;124m'\u001b[39m\u001b[38;5;124mclean_text\u001b[39m\u001b[38;5;124m'\u001b[39m]])\n\u001b[1;32m      7\u001b[0m X_test_vect \u001b[38;5;241m=\u001b[39m np\u001b[38;5;241m.\u001b[39marray([np\u001b[38;5;241m.\u001b[39marray([w2v_model\u001b[38;5;241m.\u001b[39mwv[i] \u001b[38;5;28;01mfor\u001b[39;00m i \u001b[38;5;129;01min\u001b[39;00m ls \u001b[38;5;28;01mif\u001b[39;00m i \u001b[38;5;129;01min\u001b[39;00m words])\n\u001b[1;32m      8\u001b[0m                          \u001b[38;5;28;01mfor\u001b[39;00m ls \u001b[38;5;129;01min\u001b[39;00m X_test[\u001b[38;5;124m'\u001b[39m\u001b[38;5;124mclean_text\u001b[39m\u001b[38;5;124m'\u001b[39m]])\n",
      "\u001b[0;31mNameError\u001b[0m: name 'w2vModel' is not defined"
     ]
    }
   ],
   "source": [
    "# Replace the words in each text message with the learned word vector\n",
    "\n",
    "words=set(w2vModel.wv.index_to_key)\n",
    "\n",
    "X_train_vect = np.array([np.array([w2v_model.wv[i] for i in ls if i in words])\n",
    "                         for ls in X_train['clean_text']])\n",
    "X_test_vect = np.array([np.array([w2v_model.wv[i] for i in ls if i in words])\n",
    "                         for ls in X_test['clean_text']])"
   ]
  },
  {
   "cell_type": "code",
   "execution_count": null,
   "id": "19571591",
   "metadata": {
    "execution": {
     "iopub.execute_input": "2023-10-18T09:13:48.737192Z",
     "iopub.status.busy": "2023-10-18T09:13:48.736790Z",
     "iopub.status.idle": "2023-10-18T09:13:48.782642Z",
     "shell.execute_reply": "2023-10-18T09:13:48.781626Z",
     "shell.execute_reply.started": "2023-10-18T09:13:48.737160Z"
    },
    "papermill": {
     "duration": null,
     "end_time": null,
     "exception": null,
     "start_time": null,
     "status": "pending"
    },
    "tags": []
   },
   "outputs": [],
   "source": [
    "# Average the word vectors for each sentence (and assign a vector of zeros if the model\n",
    "# did not learn any of the words in the text message during training\n",
    "X_train_vect_avg = []\n",
    "for v in X_train_vect:\n",
    "    if v.size:\n",
    "        X_train_vect_avg.append(v.mean(axis=0))\n",
    "    else:\n",
    "        X_train_vect_avg.append(np.zeros(100, dtype=float))\n",
    "        \n",
    "X_test_vect_avg = []\n",
    "for v in X_test_vect:\n",
    "    if v.size:\n",
    "        X_test_vect_avg.append(v.mean(axis=0))\n",
    "    else:\n",
    "        X_test_vect_avg.append(np.zeros(100, dtype=float))"
   ]
  },
  {
   "cell_type": "code",
   "execution_count": null,
   "id": "d8f201a1",
   "metadata": {
    "execution": {
     "iopub.execute_input": "2023-10-18T09:16:09.680756Z",
     "iopub.status.busy": "2023-10-18T09:16:09.680435Z",
     "iopub.status.idle": "2023-10-18T09:16:09.692494Z",
     "shell.execute_reply": "2023-10-18T09:16:09.691193Z",
     "shell.execute_reply.started": "2023-10-18T09:16:09.680730Z"
    },
    "papermill": {
     "duration": null,
     "end_time": null,
     "exception": null,
     "start_time": null,
     "status": "pending"
    },
    "tags": []
   },
   "outputs": [],
   "source": [
    "X_train_vect[0]"
   ]
  },
  {
   "cell_type": "code",
   "execution_count": null,
   "id": "fb7df806",
   "metadata": {
    "execution": {
     "iopub.execute_input": "2023-10-18T09:16:26.440569Z",
     "iopub.status.busy": "2023-10-18T09:16:26.440123Z",
     "iopub.status.idle": "2023-10-18T09:16:26.450107Z",
     "shell.execute_reply": "2023-10-18T09:16:26.447840Z",
     "shell.execute_reply.started": "2023-10-18T09:16:26.440545Z"
    },
    "papermill": {
     "duration": null,
     "end_time": null,
     "exception": null,
     "start_time": null,
     "status": "pending"
    },
    "tags": []
   },
   "outputs": [],
   "source": [
    "X_train_vect_avg[0]"
   ]
  },
  {
   "cell_type": "markdown",
   "id": "cf368417",
   "metadata": {
    "papermill": {
     "duration": null,
     "end_time": null,
     "exception": null,
     "start_time": null,
     "status": "pending"
    },
    "tags": []
   },
   "source": [
    "Fit RandomForestClassifier On Top Of Word Vectors"
   ]
  },
  {
   "cell_type": "code",
   "execution_count": null,
   "id": "5d532049",
   "metadata": {
    "execution": {
     "iopub.execute_input": "2023-10-18T09:18:31.821077Z",
     "iopub.status.busy": "2023-10-18T09:18:31.820187Z",
     "iopub.status.idle": "2023-10-18T09:18:32.755114Z",
     "shell.execute_reply": "2023-10-18T09:18:32.753787Z",
     "shell.execute_reply.started": "2023-10-18T09:18:31.821006Z"
    },
    "papermill": {
     "duration": null,
     "end_time": null,
     "exception": null,
     "start_time": null,
     "status": "pending"
    },
    "tags": []
   },
   "outputs": [],
   "source": [
    "# Instantiate and fit a basic Random Forest model on top of the vectors\n",
    "\n",
    "from sklearn.ensemble import RandomForestClassifier\n",
    "\n",
    "rf = RandomForestClassifier()\n",
    "rf_model = rf.fit(X_train_vect_avg, y_train.values.ravel())"
   ]
  },
  {
   "cell_type": "code",
   "execution_count": null,
   "id": "821c65c5",
   "metadata": {
    "execution": {
     "iopub.execute_input": "2023-10-18T09:18:51.541431Z",
     "iopub.status.busy": "2023-10-18T09:18:51.541098Z",
     "iopub.status.idle": "2023-10-18T09:18:51.563770Z",
     "shell.execute_reply": "2023-10-18T09:18:51.562590Z",
     "shell.execute_reply.started": "2023-10-18T09:18:51.541407Z"
    },
    "papermill": {
     "duration": null,
     "end_time": null,
     "exception": null,
     "start_time": null,
     "status": "pending"
    },
    "tags": []
   },
   "outputs": [],
   "source": [
    "# Use the trained model to make predictions on the test data\n",
    "y_pred = rf_model.predict(X_test_vect_avg)"
   ]
  },
  {
   "cell_type": "code",
   "execution_count": null,
   "id": "b7e16b61",
   "metadata": {
    "execution": {
     "iopub.execute_input": "2023-10-18T09:22:40.256457Z",
     "iopub.status.busy": "2023-10-18T09:22:40.255969Z",
     "iopub.status.idle": "2023-10-18T09:22:40.288458Z",
     "shell.execute_reply": "2023-10-18T09:22:40.287470Z",
     "shell.execute_reply.started": "2023-10-18T09:22:40.256432Z"
    },
    "papermill": {
     "duration": null,
     "end_time": null,
     "exception": null,
     "start_time": null,
     "status": "pending"
    },
    "tags": []
   },
   "outputs": [],
   "source": [
    "# Evaluate the predictions of the model on the holdout test set\n",
    "from sklearn.metrics import precision_score, recall_score\n",
    "\n",
    "precision=precision_score(y_test,y_pred)\n",
    "recall = recall_score(y_test, y_pred)\n",
    "\n",
    "print(\"Precision : {} / Recall : {} /Accuracy : {}\".format(\n",
    "    round(precision,3),round(recall,3),round((y_pred==y_test['label']).sum()/len(y_pred), 3)))"
   ]
  },
  {
   "cell_type": "code",
   "execution_count": null,
   "id": "b21e21a3",
   "metadata": {
    "papermill": {
     "duration": null,
     "end_time": null,
     "exception": null,
     "start_time": null,
     "status": "pending"
    },
    "tags": []
   },
   "outputs": [],
   "source": []
  }
 ],
 "metadata": {
  "kernelspec": {
   "display_name": "Python 3",
   "language": "python",
   "name": "python3"
  },
  "language_info": {
   "codemirror_mode": {
    "name": "ipython",
    "version": 3
   },
   "file_extension": ".py",
   "mimetype": "text/x-python",
   "name": "python",
   "nbconvert_exporter": "python",
   "pygments_lexer": "ipython3",
   "version": "3.10.12"
  },
  "papermill": {
   "default_parameters": {},
   "duration": 25.172059,
   "end_time": "2023-10-18T09:23:57.247521",
   "environment_variables": {},
   "exception": true,
   "input_path": "__notebook__.ipynb",
   "output_path": "__notebook__.ipynb",
   "parameters": {},
   "start_time": "2023-10-18T09:23:32.075462",
   "version": "2.4.0"
  }
 },
 "nbformat": 4,
 "nbformat_minor": 5
}
